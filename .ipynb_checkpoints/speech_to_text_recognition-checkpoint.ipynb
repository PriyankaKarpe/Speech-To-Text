{
 "cells": [
  {
   "cell_type": "markdown",
   "metadata": {},
   "source": [
    "## Speech to Text recognition\n",
    "\n",
    "#### This notebook demonstartes Speech to Text recognition implemented using IBM Watson REST-API service.\n",
    "#### Automatically transcribe audio from 7 languages in real-time. \n",
    "#### Rapidly identify and transcribe what is being discussed, even from lower quality audio, across a variety of audio formats and programming interfaces (HTTP REST, Websocket, Asynchronous HTTP)\n",
    "\n",
    "#### The audio files for the Speech to Text are located here: https://watson-developer-cloud.github.io/doc-tutorial-downloads/speech-to-text/reference/audio-files.zip\n",
    "\n",
    "#### Let's write some code to use this service\n"
   ]
  },
  {
   "cell_type": "code",
   "execution_count": 1,
   "metadata": {},
   "outputs": [],
   "source": [
    "# imported required packages\n",
    "import json\n",
    "from watson_developer_cloud import SpeechToTextV1\n",
    "from os.path import join"
   ]
  },
  {
   "cell_type": "markdown",
   "metadata": {},
   "source": [
    "### IBM Bluemix is used to create Speech to Text service"
   ]
  },
  {
   "cell_type": "code",
   "execution_count": 2,
   "metadata": {},
   "outputs": [],
   "source": [
    "# Once Bluemix service is added, apikey and url will be provided for the call\n",
    "speech_to_text = SpeechToTextV1(\n",
    "    iam_apikey='put api key here',\n",
    "    url='url for api endpoint'\n",
    ")"
   ]
  },
  {
   "cell_type": "markdown",
   "metadata": {},
   "source": [
    "### For Speech to Text recognition \"en-US_BroadbandModel\" model is used."
   ]
  },
  {
   "cell_type": "code",
   "execution_count": 3,
   "metadata": {},
   "outputs": [
    {
     "name": "stdout",
     "output_type": "stream",
     "text": [
      "{\n",
      "  \"rate\": 16000,\n",
      "  \"name\": \"en-US_BroadbandModel\",\n",
      "  \"language\": \"en-US\",\n",
      "  \"sessions\": \"https://stream.watsonplatform.net/speech-to-text/api/v1/sessions?model=en-US_BroadbandModel\",\n",
      "  \"url\": \"https://stream.watsonplatform.net/speech-to-text/api/v1/models/en-US_BroadbandModel\",\n",
      "  \"supported_features\": {\n",
      "    \"custom_language_model\": true,\n",
      "    \"speaker_labels\": true\n",
      "  },\n",
      "  \"description\": \"US English broadband model.\"\n",
      "}\n"
     ]
    }
   ],
   "source": [
    "# connect to service and use en-US_BroadbandModel model\n",
    "try:\n",
    "    speech_model = speech_to_text.get_model('en-US_BroadbandModel').get_result()\n",
    "    print(json.dumps(speech_model, indent=2)) \n",
    "except e:\n",
    "    print(\"Error occured.\"+str(e))"
   ]
  },
  {
   "cell_type": "markdown",
   "metadata": {},
   "source": [
    "#### Now our service is ready to be called for any speech to text conversion "
   ]
  },
  {
   "cell_type": "code",
   "execution_count": 4,
   "metadata": {
    "scrolled": true
   },
   "outputs": [
    {
     "name": "stdout",
     "output_type": "stream",
     "text": [
      "{\n",
      "  \"results\": [\n",
      "    {\n",
      "      \"word_alternatives\": [\n",
      "        {\n",
      "          \"start_time\": 0.15,\n",
      "          \"alternatives\": [\n",
      "            {\n",
      "              \"confidence\": 0.9999,\n",
      "              \"word\": \"a\"\n",
      "            }\n",
      "          ],\n",
      "          \"end_time\": 0.3\n",
      "        },\n",
      "        {\n",
      "          \"start_time\": 0.3,\n",
      "          \"alternatives\": [\n",
      "            {\n",
      "              \"confidence\": 1.0,\n",
      "              \"word\": \"line\"\n",
      "            }\n",
      "          ],\n",
      "          \"end_time\": 0.64\n",
      "        },\n",
      "        {\n",
      "          \"start_time\": 0.64,\n",
      "          \"alternatives\": [\n",
      "            {\n",
      "              \"confidence\": 1.0,\n",
      "              \"word\": \"of\"\n",
      "            }\n",
      "          ],\n",
      "          \"end_time\": 0.73\n",
      "        },\n",
      "        {\n",
      "          \"start_time\": 0.73,\n",
      "          \"alternatives\": [\n",
      "            {\n",
      "              \"confidence\": 1.0,\n",
      "              \"word\": \"severe\"\n",
      "            }\n",
      "          ],\n",
      "          \"end_time\": 1.08\n",
      "        },\n",
      "        {\n",
      "          \"start_time\": 1.08,\n",
      "          \"alternatives\": [\n",
      "            {\n",
      "              \"confidence\": 1.0,\n",
      "              \"word\": \"thunderstorms\"\n",
      "            }\n",
      "          ],\n",
      "          \"end_time\": 1.85\n",
      "        },\n",
      "        {\n",
      "          \"start_time\": 1.85,\n",
      "          \"alternatives\": [\n",
      "            {\n",
      "              \"confidence\": 0.9999,\n",
      "              \"word\": \"with\"\n",
      "            }\n",
      "          ],\n",
      "          \"end_time\": 2.0\n",
      "        },\n",
      "        {\n",
      "          \"start_time\": 2.0,\n",
      "          \"alternatives\": [\n",
      "            {\n",
      "              \"confidence\": 1.0,\n",
      "              \"word\": \"several\"\n",
      "            }\n",
      "          ],\n",
      "          \"end_time\": 2.52\n",
      "        },\n",
      "        {\n",
      "          \"start_time\": 2.52,\n",
      "          \"alternatives\": [\n",
      "            {\n",
      "              \"confidence\": 0.9999,\n",
      "              \"word\": \"possible\"\n",
      "            }\n",
      "          ],\n",
      "          \"end_time\": 3.03\n",
      "        },\n",
      "        {\n",
      "          \"start_time\": 3.03,\n",
      "          \"alternatives\": [\n",
      "            {\n",
      "              \"confidence\": 1.0,\n",
      "              \"word\": \"tornadoes\"\n",
      "            }\n",
      "          ],\n",
      "          \"end_time\": 3.85\n",
      "        },\n",
      "        {\n",
      "          \"start_time\": 3.95,\n",
      "          \"alternatives\": [\n",
      "            {\n",
      "              \"confidence\": 1.0,\n",
      "              \"word\": \"is\"\n",
      "            }\n",
      "          ],\n",
      "          \"end_time\": 4.13\n",
      "        },\n",
      "        {\n",
      "          \"start_time\": 4.13,\n",
      "          \"alternatives\": [\n",
      "            {\n",
      "              \"confidence\": 0.9999,\n",
      "              \"word\": \"approaching\"\n",
      "            }\n",
      "          ],\n",
      "          \"end_time\": 4.58\n",
      "        },\n",
      "        {\n",
      "          \"start_time\": 4.58,\n",
      "          \"alternatives\": [\n",
      "            {\n",
      "              \"confidence\": 1.0,\n",
      "              \"word\": \"Colorado\"\n",
      "            }\n",
      "          ],\n",
      "          \"end_time\": 5.16\n",
      "        },\n",
      "        {\n",
      "          \"start_time\": 5.16,\n",
      "          \"alternatives\": [\n",
      "            {\n",
      "              \"confidence\": 0.9999,\n",
      "              \"word\": \"on\"\n",
      "            }\n",
      "          ],\n",
      "          \"end_time\": 5.32\n",
      "        },\n",
      "        {\n",
      "          \"start_time\": 5.32,\n",
      "          \"alternatives\": [\n",
      "            {\n",
      "              \"confidence\": 0.9981,\n",
      "              \"word\": \"Sunday\"\n",
      "            }\n",
      "          ],\n",
      "          \"end_time\": 6.04\n",
      "        }\n",
      "      ],\n",
      "      \"keywords_result\": {\n",
      "        \"tornadoes\": [\n",
      "          {\n",
      "            \"normalized_text\": \"tornadoes\",\n",
      "            \"start_time\": 3.03,\n",
      "            \"confidence\": 1.0,\n",
      "            \"end_time\": 3.85\n",
      "          }\n",
      "        ],\n",
      "        \"colorado\": [\n",
      "          {\n",
      "            \"normalized_text\": \"Colorado\",\n",
      "            \"start_time\": 4.58,\n",
      "            \"confidence\": 1.0,\n",
      "            \"end_time\": 5.16\n",
      "          }\n",
      "        ]\n",
      "      },\n",
      "      \"alternatives\": [\n",
      "        {\n",
      "          \"timestamps\": [\n",
      "            [\n",
      "              \"a\",\n",
      "              0.15,\n",
      "              0.3\n",
      "            ],\n",
      "            [\n",
      "              \"line\",\n",
      "              0.3,\n",
      "              0.64\n",
      "            ],\n",
      "            [\n",
      "              \"of\",\n",
      "              0.64,\n",
      "              0.73\n",
      "            ],\n",
      "            [\n",
      "              \"severe\",\n",
      "              0.73,\n",
      "              1.08\n",
      "            ],\n",
      "            [\n",
      "              \"thunderstorms\",\n",
      "              1.08,\n",
      "              1.85\n",
      "            ],\n",
      "            [\n",
      "              \"with\",\n",
      "              1.85,\n",
      "              2.0\n",
      "            ],\n",
      "            [\n",
      "              \"several\",\n",
      "              2.0,\n",
      "              2.52\n",
      "            ],\n",
      "            [\n",
      "              \"possible\",\n",
      "              2.52,\n",
      "              3.03\n",
      "            ],\n",
      "            [\n",
      "              \"tornadoes\",\n",
      "              3.03,\n",
      "              3.85\n",
      "            ],\n",
      "            [\n",
      "              \"is\",\n",
      "              3.95,\n",
      "              4.13\n",
      "            ],\n",
      "            [\n",
      "              \"approaching\",\n",
      "              4.13,\n",
      "              4.58\n",
      "            ],\n",
      "            [\n",
      "              \"Colorado\",\n",
      "              4.58,\n",
      "              5.16\n",
      "            ],\n",
      "            [\n",
      "              \"on\",\n",
      "              5.16,\n",
      "              5.32\n",
      "            ],\n",
      "            [\n",
      "              \"Sunday\",\n",
      "              5.32,\n",
      "              6.04\n",
      "            ]\n",
      "          ],\n",
      "          \"confidence\": 1.0,\n",
      "          \"transcript\": \"a line of severe thunderstorms with several possible tornadoes is approaching Colorado on Sunday \"\n",
      "        }\n",
      "      ],\n",
      "      \"final\": true\n",
      "    }\n",
      "  ],\n",
      "  \"result_index\": 0\n",
      "}\n"
     ]
    }
   ],
   "source": [
    "with open('audio-file2.flac','rb') as audio_file:\n",
    "    speech_recognition_results = speech_to_text.recognize(\n",
    "        audio=audio_file,\n",
    "        content_type='audio/flac',\n",
    "        timestamps=True,\n",
    "        word_alternatives_threshold=0.9,\n",
    "        keywords=['colorado', 'tornado', 'tornadoes'],\n",
    "        keywords_threshold=0.5\n",
    "    ).get_result()\n",
    "print(json.dumps(speech_recognition_results, indent=2))"
   ]
  },
  {
   "cell_type": "code",
   "execution_count": 5,
   "metadata": {
    "scrolled": true
   },
   "outputs": [],
   "source": [
    "# covert output to json as string to make it more readable\n",
    "#mydict= json.dumps(speech_recognition_results, indent=2)\n",
    "json_string = json.dumps(speech_recognition_results, indent=2)"
   ]
  },
  {
   "cell_type": "code",
   "execution_count": 6,
   "metadata": {},
   "outputs": [
    {
     "data": {
      "text/plain": [
       "dict"
      ]
     },
     "execution_count": 6,
     "metadata": {},
     "output_type": "execute_result"
    }
   ],
   "source": [
    "# let's check type of the response \n",
    "type(speech_recognition_results)"
   ]
  },
  {
   "cell_type": "markdown",
   "metadata": {},
   "source": [
    "#### From the json string, we can see that we have to select right object to get the Transcript. The Transcript object stores the text."
   ]
  },
  {
   "cell_type": "code",
   "execution_count": 7,
   "metadata": {},
   "outputs": [
    {
     "name": "stdout",
     "output_type": "stream",
     "text": [
      "dict_keys(['word_alternatives', 'keywords_result', 'alternatives', 'final'])\n"
     ]
    }
   ],
   "source": [
    "print((speech_recognition_results['results'][0]).keys())"
   ]
  },
  {
   "cell_type": "code",
   "execution_count": 9,
   "metadata": {
    "scrolled": true
   },
   "outputs": [],
   "source": [
    "# Print the final result, the result matches with the audio file.\n",
    "\n",
    "transcript = speech_recognition_results['results'][0]['alternatives'][0]['transcript']"
   ]
  },
  {
   "cell_type": "code",
   "execution_count": 10,
   "metadata": {},
   "outputs": [
    {
     "name": "stdout",
     "output_type": "stream",
     "text": [
      "a line of severe thunderstorms with several possible tornadoes is approaching Colorado on Sunday \n"
     ]
    }
   ],
   "source": [
    "print(transcript)"
   ]
  },
  {
   "cell_type": "markdown",
   "metadata": {},
   "source": [
    "#### This code demonstrates Speech to Text for audio files using IBM Watson's api. The IBM Speech to Text service transcribes audio to text to enable speech transcription capabilities for applications. \n",
    "\n",
    "#### The full API documentation can be found here: https://ng.bluemix.net/apidocs/speech-to-text"
   ]
  },
  {
   "cell_type": "code",
   "execution_count": null,
   "metadata": {},
   "outputs": [],
   "source": []
  }
 ],
 "metadata": {
  "kernelspec": {
   "display_name": "Python 3",
   "language": "python",
   "name": "python3"
  },
  "language_info": {
   "codemirror_mode": {
    "name": "ipython",
    "version": 3
   },
   "file_extension": ".py",
   "mimetype": "text/x-python",
   "name": "python",
   "nbconvert_exporter": "python",
   "pygments_lexer": "ipython3",
   "version": "3.7.1"
  }
 },
 "nbformat": 4,
 "nbformat_minor": 2
}
